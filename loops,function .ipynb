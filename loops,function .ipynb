{
 "cells": [
  {
   "cell_type": "code",
   "execution_count": 1,
   "id": "e01af815",
   "metadata": {},
   "outputs": [],
   "source": [
    "num=(1.2,3,\"abi\",\"nandhu\",\"suriya\",4,5)"
   ]
  },
  {
   "cell_type": "code",
   "execution_count": 2,
   "id": "5c3d8d5a",
   "metadata": {},
   "outputs": [],
   "source": [
    "bscai = ('kani','liya','kavi')\n"
   ]
  },
  {
   "cell_type": "code",
   "execution_count": 4,
   "id": "5558ab81",
   "metadata": {},
   "outputs": [
    {
     "name": "stdout",
     "output_type": "stream",
     "text": [
      "1.2\n",
      "3\n",
      "abi\n",
      "nandhu\n",
      "suriya\n",
      "4\n",
      "5\n"
     ]
    }
   ],
   "source": [
    "num=(1.2,3,\"abi\",\"nandhu\",\"suriya\",4,5)\n",
    "for i in num:\n",
    "    print(i)\n",
    "    "
   ]
  },
  {
   "cell_type": "code",
   "execution_count": 5,
   "id": "3775bae3",
   "metadata": {},
   "outputs": [
    {
     "name": "stdout",
     "output_type": "stream",
     "text": [
      "1.2\n",
      "3\n",
      "abi\n",
      "nandhu\n",
      "suriya\n",
      "4\n",
      "5\n"
     ]
    }
   ],
   "source": [
    "num=(1.2,3,\"abi\",\"nandhu\",\"suriya\",4,5)\n",
    "for z in num:\n",
    "    print(z)\n",
    "    "
   ]
  },
  {
   "cell_type": "code",
   "execution_count": 6,
   "id": "4856b528",
   "metadata": {},
   "outputs": [
    {
     "name": "stdout",
     "output_type": "stream",
     "text": [
      "1.2\n",
      "3\n",
      "abi\n",
      "nandhu\n",
      "suriya\n",
      "4\n",
      "5\n"
     ]
    }
   ],
   "source": [
    "num=(1.2,3,\"abi\",\"nandhu\",\"suriya\",4,5)\n",
    "for b in num:\n",
    "    print(b)\n",
    "    "
   ]
  },
  {
   "cell_type": "code",
   "execution_count": 9,
   "id": "6617923e",
   "metadata": {},
   "outputs": [],
   "source": [
    "l= [1,2,3,4,5,6,7,8,9,10]\n"
   ]
  },
  {
   "cell_type": "code",
   "execution_count": 22,
   "id": "728d63fe",
   "metadata": {
    "scrolled": true
   },
   "outputs": [
    {
     "ename": "NameError",
     "evalue": "name 'l' is not defined",
     "output_type": "error",
     "traceback": [
      "\u001b[1;31m---------------------------------------------------------------------------\u001b[0m",
      "\u001b[1;31mNameError\u001b[0m                                 Traceback (most recent call last)",
      "Cell \u001b[1;32mIn[22], line 1\u001b[0m\n\u001b[1;32m----> 1\u001b[0m \u001b[38;5;28;01mfor\u001b[39;00m e \u001b[38;5;129;01min\u001b[39;00m \u001b[43ml\u001b[49m:\n\u001b[0;32m      2\u001b[0m     \u001b[38;5;28;01mif\u001b[39;00m \u001b[38;5;28mint\u001b[39m(l)\u001b[38;5;241m%\u001b[39m\u001b[38;5;241m2\u001b[39m \u001b[38;5;241m==\u001b[39m \u001b[38;5;241m0\u001b[39m:\n\u001b[0;32m      3\u001b[0m          \u001b[38;5;28mprint\u001b[39m(l,\u001b[38;5;124m\"\u001b[39m\u001b[38;5;124mis even\u001b[39m\u001b[38;5;124m\"\u001b[39m)\n",
      "\u001b[1;31mNameError\u001b[0m: name 'l' is not defined"
     ]
    }
   ],
   "source": [
    "for e in l:\n",
    "    if int(l)%2 == 0:\n",
    "         print(l,\"is even\")\n",
    "else:\n",
    "        print(l,\"is odd\")"
   ]
  },
  {
   "cell_type": "code",
   "execution_count": 3,
   "id": "ca506bd5",
   "metadata": {
    "scrolled": true
   },
   "outputs": [
    {
     "name": "stdout",
     "output_type": "stream",
     "text": [
      "Enter the number:7\n",
      "the sum is0\n",
      "the sum is1\n",
      "the sum is3\n",
      "the sum is6\n",
      "the sum is10\n",
      "the sum is15\n",
      "the sum is21\n",
      "the sum is28\n"
     ]
    }
   ],
   "source": [
    "n =input(\"Enter the number:\")\n",
    "val = 0\n",
    "i= 0\n",
    "while i <= int(n):\n",
    "    val += i\n",
    "    i += 1\n",
    "    print(f\"the sum is{val}\")\n"
   ]
  },
  {
   "cell_type": "code",
   "execution_count": 4,
   "id": "df7a1b84",
   "metadata": {},
   "outputs": [
    {
     "name": "stdout",
     "output_type": "stream",
     "text": [
      "Inside loop\n",
      "Inside loop\n",
      "Inside loop\n",
      "Inside loop\n",
      "Inside loop\n",
      "Inside loop\n",
      "Inside loop\n",
      "Inside loop\n",
      "Inside loop\n",
      "Inside loop\n",
      "Inside loop\n",
      "Inside loop\n",
      "Inside loop\n",
      "Inside loop\n",
      "Inside loop\n",
      "Get out of loop\n"
     ]
    }
   ],
   "source": [
    "counter = 0\n",
    "\n",
    "while counter < 15:\n",
    "    print(\"Inside loop\")\n",
    "    counter = counter + 1\n",
    "else:\n",
    "    print(\"Get out of loop\")"
   ]
  },
  {
   "cell_type": "code",
   "execution_count": 6,
   "id": "6f87934b",
   "metadata": {
    "scrolled": true
   },
   "outputs": [
    {
     "name": "stdout",
     "output_type": "stream",
     "text": [
      "a\n",
      "b\n",
      "i\n",
      "n\n",
      "a\n",
      "the end\n"
     ]
    }
   ],
   "source": [
    "for val in \"abinaya\":\n",
    "    if val == \"y\":\n",
    "        break\n",
    "    print(val)\n",
    "    \n",
    "print(\"the end\")\n"
   ]
  },
  {
   "cell_type": "markdown",
   "id": "fbab90f0",
   "metadata": {},
   "source": [
    "# function"
   ]
  },
  {
   "cell_type": "code",
   "execution_count": 8,
   "id": "c47e9aa9",
   "metadata": {},
   "outputs": [],
   "source": [
    "def intro():\n",
    "    print(\"Hello,my name is Abinaya\")"
   ]
  },
  {
   "cell_type": "code",
   "execution_count": 9,
   "id": "b1b98e8e",
   "metadata": {},
   "outputs": [
    {
     "name": "stdout",
     "output_type": "stream",
     "text": [
      "Hello,my name is Abinaya\n"
     ]
    }
   ],
   "source": [
    "intro()"
   ]
  },
  {
   "cell_type": "code",
   "execution_count": 12,
   "id": "457b4e82",
   "metadata": {},
   "outputs": [],
   "source": [
    "def abi(x,y):\n",
    "    return x+y\n"
   ]
  },
  {
   "cell_type": "code",
   "execution_count": 13,
   "id": "5e7ccaa2",
   "metadata": {},
   "outputs": [
    {
     "name": "stdout",
     "output_type": "stream",
     "text": [
      "Enter the first number:50\n",
      "Enter the second number:50\n",
      "the sum is100\n"
     ]
    }
   ],
   "source": [
    "#main program\n",
    "no1= int(input(\"Enter the first number:\"))\n",
    "no2 =int (input(\"Enter the second number:\"))\n",
    "add = abi(no1,no2)\n",
    "print(f\"the sum is{add}\")\n"
   ]
  },
  {
   "cell_type": "code",
   "execution_count": null,
   "id": "c5f7d033",
   "metadata": {},
   "outputs": [],
   "source": []
  }
 ],
 "metadata": {
  "kernelspec": {
   "display_name": "Python 3 (ipykernel)",
   "language": "python",
   "name": "python3"
  },
  "language_info": {
   "codemirror_mode": {
    "name": "ipython",
    "version": 3
   },
   "file_extension": ".py",
   "mimetype": "text/x-python",
   "name": "python",
   "nbconvert_exporter": "python",
   "pygments_lexer": "ipython3",
   "version": "3.9.17"
  }
 },
 "nbformat": 4,
 "nbformat_minor": 5
}
