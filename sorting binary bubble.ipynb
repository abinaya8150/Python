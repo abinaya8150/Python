{
 "cells": [
  {
   "cell_type": "code",
   "execution_count": 1,
   "id": "33e2e6d6",
   "metadata": {},
   "outputs": [],
   "source": [
    "data = [16,21,15,7,8,24,9,1,30,10,25,13,26,11,12,5,20,28,18,3]"
   ]
  },
  {
   "cell_type": "code",
   "execution_count": 2,
   "id": "24d9e3c4",
   "metadata": {},
   "outputs": [],
   "source": [
    "data.sort()"
   ]
  },
  {
   "cell_type": "code",
   "execution_count": 3,
   "id": "2b5a0a34",
   "metadata": {},
   "outputs": [
    {
     "name": "stdout",
     "output_type": "stream",
     "text": [
      "enter the search element13\n"
     ]
    }
   ],
   "source": [
    "elem = int(input(\"enter the search element\"))\n"
   ]
  },
  {
   "cell_type": "code",
   "execution_count": 4,
   "id": "ac58d852",
   "metadata": {},
   "outputs": [],
   "source": [
    "def binary_search(data,elem):\n",
    "    \n",
    "    low = 0\n",
    "    high = len(data) -1\n",
    "    \n",
    "    while low <= high:\n",
    "        \n",
    "        middle = (low + high)//2\n",
    "        \n",
    "        if data[middle] == elem:\n",
    "            print(f\"the sarching element{elem} present at index value {middle} in dataset\")\n",
    "            break\n",
    "            \n",
    "        elif data[middle] >elem:\n",
    "            high = middle - 1\n",
    "            \n",
    "        else:\n",
    "            low = middle + 1\n",
    "    if data[middle]  !=elem:\n",
    "        print(f\"the searching element {elem}\")\n",
    "        return-1"
   ]
  },
  {
   "cell_type": "code",
   "execution_count": 5,
   "id": "71f14201",
   "metadata": {},
   "outputs": [
    {
     "name": "stdout",
     "output_type": "stream",
     "text": [
      "the sarching element13 present at index value 9 in dataset\n"
     ]
    }
   ],
   "source": [
    "binary_search (data,elem)\n"
   ]
  },
  {
   "cell_type": "code",
   "execution_count": 10,
   "id": "857f864a",
   "metadata": {},
   "outputs": [
    {
     "ename": "SyntaxError",
     "evalue": "invalid syntax (491258725.py, line 1)",
     "output_type": "error",
     "traceback": [
      "\u001b[1;36m  Cell \u001b[1;32mIn[10], line 1\u001b[1;36m\u001b[0m\n\u001b[1;33m    for data in a;\u001b[0m\n\u001b[1;37m                 ^\u001b[0m\n\u001b[1;31mSyntaxError\u001b[0m\u001b[1;31m:\u001b[0m invalid syntax\n"
     ]
    }
   ],
   "source": [
    "for data in a;\n",
    "    if 26 <= int(a):\n",
    "    print()"
   ]
  },
  {
   "cell_type": "code",
   "execution_count": 7,
   "id": "66217e99",
   "metadata": {},
   "outputs": [
    {
     "name": "stdout",
     "output_type": "stream",
     "text": [
      "Before Sorting the Array in Ascending Order:\n",
      "[-2, 45, 0, 11, 9, 15, -11, 21, 12]\n",
      "After Before Sorting the Array in Ascending Order:\n",
      "[-11, -2, 0, 9, 11, 12, 15, 21, 45]\n"
     ]
    }
   ],
   "source": [
    "def bubbleSort(data):\n",
    "    \n",
    "    for i in range(len(data)):\n",
    "        \n",
    "        for j in range(0, len(data) - i - 1):\n",
    "            \n",
    "            if data[j] > data[j + 1]:\n",
    "             \n",
    "                temp = data[j]\n",
    "                data  [j] = data [j + 1]\n",
    "                data [j + 1] = temp\n",
    "        \n",
    "data = [-2, 45, 0, 11, 9, 15, -11, 21, 12]\n",
    "\n",
    "print('Before Sorting the Array in Ascending Order:')\n",
    "print(data)\n",
    "\n",
    "bubbleSort(data)\n",
    "\n",
    "print('After Before Sorting the Array in Ascending Order:')\n",
    "print(data)"
   ]
  },
  {
   "cell_type": "code",
   "execution_count": 8,
   "id": "13961dea",
   "metadata": {},
   "outputs": [
    {
     "name": "stdout",
     "output_type": "stream",
     "text": [
      "Before Sorting the Array in Descending Order:\n",
      "[-2, 45, 0, 11, 9, 15, -11, 21, 12]\n",
      "After Before Sorting the Array in Descending Order:\n",
      "[45, 21, 15, 12, 11, 9, 0, -2, -11]\n"
     ]
    }
   ],
   "source": [
    "def bubbleSort(data):\n",
    "    \n",
    "    for i in range(len(data)):\n",
    "        \n",
    "        for j in range(0, len(data) - i - 1):\n",
    "            \n",
    "            if data[j] < data[j + 1]:\n",
    "             \n",
    "                temp = data[j]\n",
    "                data  [j] = data [j + 1]\n",
    "                data [j + 1] = temp\n",
    "        \n",
    "data = [-2, 45, 0, 11, 9, 15, -11, 21, 12]\n",
    "\n",
    "print('Before Sorting the Array in Descending Order:')\n",
    "print(data)\n",
    "\n",
    "bubbleSort(data)\n",
    "\n",
    "print('After Before Sorting the Array in Descending Order:')\n",
    "print(data) "
   ]
  },
  {
   "cell_type": "code",
   "execution_count": 9,
   "id": "eaa54fc3",
   "metadata": {},
   "outputs": [
    {
     "name": "stdout",
     "output_type": "stream",
     "text": [
      "Non-Sorted array is:\n",
      " 64  34  25  12  22  11  10  90  11  125  242344  56 \n",
      "Sorted array is:\n",
      " 10  11  11  12  22  25  34  56  64  90  125  242344 "
     ]
    }
   ],
   "source": [
    "def bubbleSort(arr):\n",
    "    n = len (arr)\n",
    "    \n",
    "    swapped = False\n",
    "    \n",
    "    for i in range(n-1):\n",
    "        \n",
    "        for j in range(0, n-i-1):\n",
    "             if arr[j] > arr[j + 1]:\n",
    "                    swapped = True \n",
    "                    arr[j], arr[j + 1] = arr[j + 1], arr[j]\n",
    "                    \n",
    "    if not swapped:\n",
    "        \n",
    "        return\n",
    "    \n",
    "arr = [64, 34, 25, 12, 22, 11, 10, 90,11,125,242344,56]\n",
    "\n",
    "print(\"Non-Sorted array is:\")\n",
    "for i in range(len(arr)):\n",
    "    print(\"% d\" % arr[i], end=\" \")\n",
    "    \n",
    "bubbleSort(arr)\n",
    "print(\"\\nSorted array is:\")\n",
    "for i in range(len(arr)):\n",
    "    print(\"% d\" % arr[i], end=\" \")"
   ]
  },
  {
   "cell_type": "code",
   "execution_count": null,
   "id": "7724ecd4",
   "metadata": {},
   "outputs": [],
   "source": []
  }
 ],
 "metadata": {
  "kernelspec": {
   "display_name": "Python 3 (ipykernel)",
   "language": "python",
   "name": "python3"
  },
  "language_info": {
   "codemirror_mode": {
    "name": "ipython",
    "version": 3
   },
   "file_extension": ".py",
   "mimetype": "text/x-python",
   "name": "python",
   "nbconvert_exporter": "python",
   "pygments_lexer": "ipython3",
   "version": "3.9.17"
  }
 },
 "nbformat": 4,
 "nbformat_minor": 5
}
