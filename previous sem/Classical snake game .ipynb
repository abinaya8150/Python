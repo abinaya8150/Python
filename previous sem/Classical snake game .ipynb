{
 "cells": [
  {
   "cell_type": "code",
   "execution_count": 1,
   "id": "2659d9c1",
   "metadata": {},
   "outputs": [
    {
     "name": "stdout",
     "output_type": "stream",
     "text": [
      "Requirement already satisfied: pygame in /Users/gurubalan/PHTHON/anaconda3/lib/python3.11/site-packages (2.5.1)\n",
      "Note: you may need to restart the kernel to use updated packages.\n"
     ]
    }
   ],
   "source": [
    "pip install pygame"
   ]
  },
  {
   "cell_type": "code",
   "execution_count": 2,
   "id": "69ae347a",
   "metadata": {},
   "outputs": [
    {
     "name": "stdout",
     "output_type": "stream",
     "text": [
      "pygame 2.5.1 (SDL 2.28.2, Python 3.11.4)\n",
      "Hello from the pygame community. https://www.pygame.org/contribute.html\n"
     ]
    }
   ],
   "source": [
    "import pygame\n",
    "import time\n",
    "import random"
   ]
  },
  {
   "cell_type": "code",
   "execution_count": 3,
   "id": "706576ce",
   "metadata": {},
   "outputs": [],
   "source": [
    "snake_speed = 15"
   ]
  },
  {
   "cell_type": "code",
   "execution_count": 4,
   "id": "d3995687",
   "metadata": {},
   "outputs": [],
   "source": [
    "window_x = 720\n",
    "window_y = 480"
   ]
  },
  {
   "cell_type": "code",
   "execution_count": 5,
   "id": "0ba8d092",
   "metadata": {},
   "outputs": [],
   "source": [
    "black = pygame.Color(0, 0, 0)\n",
    "white = pygame.Color(255, 255, 255)\n",
    "red = pygame.Color(255, 0, 0)\n",
    "green = pygame.Color(0, 255, 0)\n",
    "blue = pygame.Color(0, 0, 255)"
   ]
  },
  {
   "cell_type": "code",
   "execution_count": 6,
   "id": "d2334967",
   "metadata": {},
   "outputs": [
    {
     "data": {
      "text/plain": [
       "(5, 0)"
      ]
     },
     "execution_count": 6,
     "metadata": {},
     "output_type": "execute_result"
    }
   ],
   "source": [
    "pygame.init()"
   ]
  },
  {
   "cell_type": "code",
   "execution_count": 7,
   "id": "c7b570b4",
   "metadata": {},
   "outputs": [],
   "source": [
    "score=0"
   ]
  },
  {
   "cell_type": "code",
   "execution_count": 8,
   "id": "5aeb6bda",
   "metadata": {},
   "outputs": [],
   "source": [
    "pygame.display.set_caption('Snakes')\n",
    "game_window = pygame.display.set_mode((window_x, window_y))"
   ]
  },
  {
   "cell_type": "code",
   "execution_count": 9,
   "id": "a422014e",
   "metadata": {},
   "outputs": [],
   "source": [
    "fps = pygame.time.Clock()"
   ]
  },
  {
   "cell_type": "code",
   "execution_count": 10,
   "id": "ba2fa80b",
   "metadata": {},
   "outputs": [],
   "source": [
    "snake_position = [100, 50]"
   ]
  },
  {
   "cell_type": "code",
   "execution_count": 11,
   "id": "9c7429e3",
   "metadata": {},
   "outputs": [],
   "source": [
    "snake_body = [[100, 50],\n",
    "              [90, 50],\n",
    "              [80, 50],\n",
    "              [70, 50]\n",
    "              ]"
   ]
  },
  {
   "cell_type": "code",
   "execution_count": 12,
   "id": "d3ed51f6",
   "metadata": {},
   "outputs": [],
   "source": [
    "fruit_position = [random.randrange(1, (window_x//10)) * 10,\n",
    " random.randrange(1, (window_y//10)) * 10]\n",
    "fruit_spawn = True"
   ]
  },
  {
   "cell_type": "code",
   "execution_count": 13,
   "id": "e004fbb0",
   "metadata": {},
   "outputs": [],
   "source": [
    "direction = 'RIGHT'\n",
    "change_to = direction"
   ]
  },
  {
   "cell_type": "code",
   "execution_count": 14,
   "id": "2a97c264",
   "metadata": {},
   "outputs": [],
   "source": [
    "def show_score(choice, color, font, size):\n",
    "    # create font object score_font\n",
    "    score_font = pygame.font.SysFont(font, size)\n",
    "\n",
    "    # create the display surface object score_surface\n",
    "    score_surface = score_font.render('Score : ' + str(score), True, color)\n",
    "\n",
    "    # create a rectangular object for the text surface object\n",
    "    score_rect = score_surface.get_rect()\n",
    "\n",
    "    # set position of the text\n",
    "    score_rect.midtop = (window_x / 10, 10)\n",
    "\n",
    "    # blit wil draw the text on screen\n",
    "    game_window.blit(score_surface, score_rect)"
   ]
  },
  {
   "cell_type": "code",
   "execution_count": 15,
   "id": "289717a6",
   "metadata": {},
   "outputs": [],
   "source": [
    "def game_over():\n",
    "    # creating font object my_font\n",
    "    my_font = pygame.font.SysFont('times new roman', 50)\n",
    "    \n",
    "    # creating a text surface on which text\n",
    "    # will be drawn\n",
    "    game_over_surface = my_font.render(\n",
    "        'Your Score is : ' + str(score), True, red)\n",
    "    \n",
    "    # create a rectangular object for the text\n",
    "    # surface object\n",
    "    game_over_rect = game_over_surface.get_rect()\n",
    "    \n",
    "    # setting position of the text\n",
    "    game_over_rect.midtop = (window_x/2, window_y/4)\n",
    "    \n",
    "    # blit will draw the text on screen\n",
    "    game_window.blit(game_over_surface, game_over_rect)\n",
    "    pygame.display.flip()\n",
    "    \n",
    "    # after 2 seconds we will quit the program\n",
    "    time.sleep(2)\n",
    "    \n",
    "    # deactivating pygame library\n",
    "    pygame.quit()\n",
    "    \n",
    "    # quit the program\n",
    "    quit()\n"
   ]
  },
  {
   "cell_type": "code",
   "execution_count": null,
   "id": "9949f7ba",
   "metadata": {},
   "outputs": [],
   "source": [
    "# Main Function\n",
    "while True:\n",
    " \n",
    "    # handling key events\n",
    "    for event in pygame.event.get():\n",
    "        if event.type == pygame.KEYDOWN:\n",
    "            if event.key == pygame.K_UP:\n",
    "                change_to = 'UP'\n",
    "            if event.key == pygame.K_DOWN:\n",
    "                change_to = 'DOWN'\n",
    "            if event.key == pygame.K_LEFT:\n",
    "                change_to = 'LEFT'\n",
    "            if event.key == pygame.K_RIGHT:\n",
    "                change_to = 'RIGHT'\n",
    "    \n",
    "    # If two keys pressed simultaneously\n",
    "    # we don't want snake to move into two\n",
    "    # directions simultaneously\n",
    "    if change_to == 'UP' and direction != 'DOWN':\n",
    "        direction = 'UP'\n",
    "    if change_to == 'DOWN' and direction != 'UP':\n",
    "        direction = 'DOWN'\n",
    "    if change_to == 'LEFT' and direction != 'RIGHT':\n",
    "        direction = 'LEFT'\n",
    "    if change_to == 'RIGHT' and direction != 'LEFT':\n",
    "        direction = 'RIGHT'\n",
    "        \n",
    "    # Moving the snake\n",
    "    if direction == 'UP':\n",
    "        snake_position[1] -= 10\n",
    "    if direction == 'DOWN':\n",
    "        snake_position[1] += 10\n",
    "    if direction == 'LEFT':\n",
    "        snake_position[0] -= 10\n",
    "    if direction == 'RIGHT':\n",
    "        snake_position[0] += 10\n",
    "    \n",
    "    # Snake body growing mechanism\n",
    "    # if fruits and snakes collide then scores\n",
    "    # will be incremented by 10\n",
    "    snake_body.insert(0, list(snake_position))\n",
    "    if snake_position[0] == fruit_position[0] and snake_position[1] == fruit_position[1]:\n",
    "        score += 10\n",
    "        fruit_spawn = False\n",
    "    else:\n",
    "        snake_body.pop()\n",
    " \n",
    "    if not fruit_spawn:\n",
    "        fruit_position = [random.randrange(1, (window_x//10)) * 10,\n",
    "                          random.randrange(1, (window_y//10)) * 10]\n",
    " \n",
    "        fruit_spawn = True\n",
    "        \n",
    "    game_window.fill(black)\n",
    " \n",
    "    for pos in snake_body:\n",
    "        pygame.draw.rect(game_window, green,\n",
    "                         pygame.Rect(pos[0], pos[1], 10, 10))\n",
    "        \n",
    "    pygame.draw.rect(game_window, white, pygame.Rect(\n",
    "        fruit_position[0], fruit_position[1], 10, 10))\n",
    "    \n",
    "    # Game Over conditions\n",
    "    if snake_position[0] < 0 or snake_position[0] > window_x-10:\n",
    "        game_over()\n",
    "    if snake_position[1] < 0 or snake_position[1] > window_y-10:\n",
    "        game_over()\n",
    "    \n",
    "    # Touching the snake body\n",
    "    for block in snake_body[1:]:\n",
    "        if snake_position[0] == block[0] and snake_position[1] == block[1]:\n",
    "            game_over()\n",
    "    \n",
    "    # displaying score countinuously\n",
    "    show_score(1, white, 'times new roman', 20)\n",
    "    \n",
    "    # Refresh game screen\n",
    "    pygame.display.update()\n",
    "    \n",
    "    # Frame Per Second /Refresh Rate\n",
    "    fps.tick(snake_speed)"
   ]
  },
  {
   "cell_type": "code",
   "execution_count": null,
   "id": "3877ebe3",
   "metadata": {},
   "outputs": [],
   "source": []
  }
 ],
 "metadata": {
  "kernelspec": {
   "display_name": "Python 3 (ipykernel)",
   "language": "python",
   "name": "python3"
  },
  "language_info": {
   "codemirror_mode": {
    "name": "ipython",
    "version": 3
   },
   "file_extension": ".py",
   "mimetype": "text/x-python",
   "name": "python",
   "nbconvert_exporter": "python",
   "pygments_lexer": "ipython3",
   "version": "3.11.4"
  }
 },
 "nbformat": 4,
 "nbformat_minor": 5
}
