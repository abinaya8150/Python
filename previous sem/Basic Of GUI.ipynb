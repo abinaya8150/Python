{
 "cells": [
  {
   "cell_type": "code",
   "execution_count": null,
   "id": "d3cf4e94",
   "metadata": {},
   "outputs": [],
   "source": [
    "import tkinter as tk"
   ]
  },
  {
   "cell_type": "code",
   "execution_count": null,
   "id": "e891c045",
   "metadata": {},
   "outputs": [],
   "source": [
    "root = tk.Tk()"
   ]
  },
  {
   "cell_type": "code",
   "execution_count": null,
   "id": "6cd57b33",
   "metadata": {},
   "outputs": [],
   "source": [
    "root.mainloop()"
   ]
  },
  {
   "cell_type": "code",
   "execution_count": null,
   "id": "0af9d8a1",
   "metadata": {},
   "outputs": [],
   "source": [
    "root = tk.Tk()"
   ]
  },
  {
   "cell_type": "code",
   "execution_count": null,
   "id": "8e9ae54c",
   "metadata": {},
   "outputs": [],
   "source": [
    "root.geometry(\"400x500\")"
   ]
  },
  {
   "cell_type": "code",
   "execution_count": null,
   "id": "8d1cf303",
   "metadata": {},
   "outputs": [],
   "source": [
    "root.mainloop()"
   ]
  },
  {
   "cell_type": "code",
   "execution_count": null,
   "id": "cc0077ef",
   "metadata": {},
   "outputs": [],
   "source": [
    "root = tk.Tk()"
   ]
  },
  {
   "cell_type": "code",
   "execution_count": null,
   "id": "d27cf1d1",
   "metadata": {},
   "outputs": [],
   "source": [
    "root.title(\"guru\")"
   ]
  },
  {
   "cell_type": "code",
   "execution_count": null,
   "id": "9bfce527",
   "metadata": {},
   "outputs": [],
   "source": [
    "root.mainloop()"
   ]
  },
  {
   "cell_type": "markdown",
   "id": "4968aa34",
   "metadata": {},
   "source": [
    "# leable"
   ]
  },
  {
   "cell_type": "code",
   "execution_count": null,
   "id": "e3de1015",
   "metadata": {},
   "outputs": [],
   "source": [
    "root = tk.Tk()"
   ]
  },
  {
   "cell_type": "code",
   "execution_count": null,
   "id": "1a70bd21",
   "metadata": {},
   "outputs": [],
   "source": [
    "my_label = tk.Label(root, text=\"hi |||Bsc(ai)\")"
   ]
  },
  {
   "cell_type": "code",
   "execution_count": null,
   "id": "13ad5b1d",
   "metadata": {},
   "outputs": [],
   "source": [
    "my_label.pack()"
   ]
  },
  {
   "cell_type": "code",
   "execution_count": null,
   "id": "b6946ea2",
   "metadata": {},
   "outputs": [],
   "source": [
    "root.mainloop()"
   ]
  },
  {
   "cell_type": "markdown",
   "id": "6bbdbd08",
   "metadata": {},
   "source": [
    "# BUTTON"
   ]
  },
  {
   "cell_type": "code",
   "execution_count": null,
   "id": "1a701335",
   "metadata": {},
   "outputs": [],
   "source": [
    "root=tk.Tk()"
   ]
  },
  {
   "cell_type": "code",
   "execution_count": null,
   "id": "8f113489",
   "metadata": {},
   "outputs": [],
   "source": [
    "root.title(\"WElCOME TO THE PMU \")"
   ]
  },
  {
   "cell_type": "code",
   "execution_count": null,
   "id": "7e6e73a1",
   "metadata": {},
   "outputs": [],
   "source": [
    "root.geometry(\"400x500\")"
   ]
  },
  {
   "cell_type": "code",
   "execution_count": null,
   "id": "c6abcad7",
   "metadata": {},
   "outputs": [],
   "source": [
    "mybutton=tk.Button(root,text='click on')"
   ]
  },
  {
   "cell_type": "code",
   "execution_count": null,
   "id": "0c769083",
   "metadata": {},
   "outputs": [],
   "source": [
    "mybutton.pack()"
   ]
  },
  {
   "cell_type": "code",
   "execution_count": null,
   "id": "a08974a7",
   "metadata": {},
   "outputs": [],
   "source": [
    "root.mainloop()"
   ]
  },
  {
   "cell_type": "markdown",
   "id": "8b3f5f29",
   "metadata": {},
   "source": [
    "# MULTIPLE BUTTON"
   ]
  },
  {
   "cell_type": "code",
   "execution_count": null,
   "id": "3d4a89d2",
   "metadata": {},
   "outputs": [],
   "source": [
    "root=tk.Tk()"
   ]
  },
  {
   "cell_type": "code",
   "execution_count": null,
   "id": "82cc4119",
   "metadata": {},
   "outputs": [],
   "source": [
    "root.geometry(\"400x500\")"
   ]
  },
  {
   "cell_type": "code",
   "execution_count": null,
   "id": "177a9252",
   "metadata": {},
   "outputs": [],
   "source": [
    "mybutton1=tk.Button(root,text='click on')"
   ]
  },
  {
   "cell_type": "code",
   "execution_count": null,
   "id": "33ca2aa4",
   "metadata": {},
   "outputs": [],
   "source": [
    "mybutton2=tk.Button(root,text='click OFF')"
   ]
  },
  {
   "cell_type": "code",
   "execution_count": null,
   "id": "e18ba41c",
   "metadata": {},
   "outputs": [],
   "source": [
    "mybutton3=tk.Button(root,text='click On')"
   ]
  },
  {
   "cell_type": "code",
   "execution_count": null,
   "id": "7cb2b1ab",
   "metadata": {},
   "outputs": [],
   "source": [
    "mybutton1.pack()"
   ]
  },
  {
   "cell_type": "code",
   "execution_count": null,
   "id": "86e86008",
   "metadata": {},
   "outputs": [],
   "source": [
    "mybutton2.pack()"
   ]
  },
  {
   "cell_type": "code",
   "execution_count": null,
   "id": "8993f39e",
   "metadata": {},
   "outputs": [],
   "source": [
    "mybutton3.pack()"
   ]
  },
  {
   "cell_type": "code",
   "execution_count": null,
   "id": "e3a00a35",
   "metadata": {},
   "outputs": [],
   "source": [
    "root.mainloop()"
   ]
  },
  {
   "cell_type": "markdown",
   "id": "c2853f38",
   "metadata": {},
   "source": [
    "# SIZE OF BUTTON"
   ]
  },
  {
   "cell_type": "code",
   "execution_count": null,
   "id": "f7fbfcca",
   "metadata": {},
   "outputs": [],
   "source": [
    "root=tk.Tk()"
   ]
  },
  {
   "cell_type": "code",
   "execution_count": null,
   "id": "0a3081a4",
   "metadata": {},
   "outputs": [],
   "source": [
    "root.geometry(\"400x500\")"
   ]
  },
  {
   "cell_type": "code",
   "execution_count": null,
   "id": "2dea1203",
   "metadata": {},
   "outputs": [],
   "source": [
    "mybutton1=tk.Button(root,text='click on',padx=25,pady=25)"
   ]
  },
  {
   "cell_type": "code",
   "execution_count": null,
   "id": "0cacd36e",
   "metadata": {},
   "outputs": [],
   "source": [
    "mybutton2=tk.Button(root,text='click OFF',padx=25,pady=25)"
   ]
  },
  {
   "cell_type": "code",
   "execution_count": null,
   "id": "3c62aeed",
   "metadata": {},
   "outputs": [],
   "source": [
    "mybutton1.pack()"
   ]
  },
  {
   "cell_type": "code",
   "execution_count": null,
   "id": "8275ac72",
   "metadata": {},
   "outputs": [],
   "source": [
    "mybutton2.pack()"
   ]
  },
  {
   "cell_type": "code",
   "execution_count": null,
   "id": "54c22b86",
   "metadata": {},
   "outputs": [],
   "source": [
    "root.mainloop()\n"
   ]
  },
  {
   "cell_type": "markdown",
   "id": "abe4ac67",
   "metadata": {},
   "source": [
    "# FUNCTION OF BUTTON"
   ]
  },
  {
   "cell_type": "code",
   "execution_count": null,
   "id": "9b54d4af",
   "metadata": {},
   "outputs": [],
   "source": [
    "root=tk.Tk()"
   ]
  },
  {
   "cell_type": "code",
   "execution_count": null,
   "id": "aa6cd2b7",
   "metadata": {},
   "outputs": [],
   "source": [
    "root.geometry(\"400x500\")"
   ]
  },
  {
   "cell_type": "code",
   "execution_count": null,
   "id": "217f8a38",
   "metadata": {},
   "outputs": [],
   "source": [
    "def myClick():\n",
    "    mylabel = tk.Label(root, text=\"Click on button\")\n",
    "    mylabel.pack()"
   ]
  },
  {
   "cell_type": "code",
   "execution_count": null,
   "id": "9dbdec28",
   "metadata": {},
   "outputs": [],
   "source": [
    "myButton = tk.Button(root, text='Click me', command=myClick)"
   ]
  },
  {
   "cell_type": "code",
   "execution_count": null,
   "id": "d8feb606",
   "metadata": {},
   "outputs": [],
   "source": [
    "myButton.pack()"
   ]
  },
  {
   "cell_type": "code",
   "execution_count": null,
   "id": "4af28b18",
   "metadata": {},
   "outputs": [],
   "source": [
    "root.mainloop()\n"
   ]
  },
  {
   "cell_type": "markdown",
   "id": "6ae5a690",
   "metadata": {},
   "source": [
    "# COLOURE ON BUTTON"
   ]
  },
  {
   "cell_type": "code",
   "execution_count": null,
   "id": "aab6d4c8",
   "metadata": {},
   "outputs": [],
   "source": [
    "root=tk.Tk()\n"
   ]
  },
  {
   "cell_type": "code",
   "execution_count": null,
   "id": "7d916316",
   "metadata": {},
   "outputs": [],
   "source": [
    "root.geometry(\"400x500\")\n"
   ]
  },
  {
   "cell_type": "code",
   "execution_count": null,
   "id": "22655d6c",
   "metadata": {},
   "outputs": [],
   "source": [
    "def myClick():\n",
    "    mylabel = tk.Label(root, text=\"Click on button\")\n",
    "    mylabel.pack()"
   ]
  },
  {
   "cell_type": "code",
   "execution_count": null,
   "id": "2a7712d0",
   "metadata": {},
   "outputs": [],
   "source": [
    "myButton = tk.Button(root, text='Click me', command=myClick, fg='red', bg ='black')"
   ]
  },
  {
   "cell_type": "code",
   "execution_count": null,
   "id": "1c8f69e4",
   "metadata": {},
   "outputs": [],
   "source": [
    "myButton.pack()"
   ]
  },
  {
   "cell_type": "code",
   "execution_count": null,
   "id": "83ca963f",
   "metadata": {},
   "outputs": [],
   "source": [
    "root.mainloop()"
   ]
  },
  {
   "cell_type": "markdown",
   "id": "14c640f8",
   "metadata": {},
   "source": [
    "# TASK"
   ]
  },
  {
   "cell_type": "code",
   "execution_count": null,
   "id": "e69f4a18",
   "metadata": {},
   "outputs": [],
   "source": [
    "root=tk.Tk()"
   ]
  },
  {
   "cell_type": "code",
   "execution_count": null,
   "id": "3f215418",
   "metadata": {},
   "outputs": [],
   "source": [
    "def myClick():\n",
    "    mylabel = tk.Label(root, text=\"Click on button\")\n",
    "    mylabel.pack()"
   ]
  },
  {
   "cell_type": "code",
   "execution_count": null,
   "id": "d5a568eb",
   "metadata": {},
   "outputs": [],
   "source": [
    "myButton01 = tk.Button(root, text='Click me', command=myClick, fg='red', bg ='black')"
   ]
  },
  {
   "cell_type": "code",
   "execution_count": null,
   "id": "9e744bea",
   "metadata": {},
   "outputs": [],
   "source": [
    "def myClick01():\n",
    "    mylabel = tk.Label(root, text=\"Click OFF button\")\n",
    "    mylabel.pack()"
   ]
  },
  {
   "cell_type": "code",
   "execution_count": null,
   "id": "7477cedf",
   "metadata": {},
   "outputs": [],
   "source": [
    "myButton02 = tk.Button(root, text='Click me', command=myClick01, fg='red', bg ='yellow')"
   ]
  },
  {
   "cell_type": "code",
   "execution_count": null,
   "id": "dfdecee7",
   "metadata": {},
   "outputs": [],
   "source": [
    "def myClick01():\n",
    "    mylabel = tk.Label(root, text=\"Click OUT button\")\n",
    "    mylabel.pack()"
   ]
  },
  {
   "cell_type": "code",
   "execution_count": null,
   "id": "937d93fb",
   "metadata": {},
   "outputs": [],
   "source": [
    "myButton03 = tk.Button(root, text='Click me', command=myClick01, fg='black', bg ='yellow')"
   ]
  },
  {
   "cell_type": "code",
   "execution_count": null,
   "id": "1338e05a",
   "metadata": {},
   "outputs": [],
   "source": [
    "myButton01.pack()"
   ]
  },
  {
   "cell_type": "code",
   "execution_count": null,
   "id": "665634db",
   "metadata": {},
   "outputs": [],
   "source": [
    "myButton02.pack()"
   ]
  },
  {
   "cell_type": "code",
   "execution_count": null,
   "id": "68a9be4b",
   "metadata": {},
   "outputs": [],
   "source": [
    "myButton03.pack()"
   ]
  },
  {
   "cell_type": "code",
   "execution_count": null,
   "id": "12b1eec0",
   "metadata": {},
   "outputs": [],
   "source": [
    "root.mainloop()\n"
   ]
  },
  {
   "cell_type": "markdown",
   "id": "1340a38b",
   "metadata": {},
   "source": [
    "# enter wideject"
   ]
  },
  {
   "cell_type": "code",
   "execution_count": null,
   "id": "1d821fc8",
   "metadata": {},
   "outputs": [],
   "source": [
    "root=tk.Tk()"
   ]
  },
  {
   "cell_type": "code",
   "execution_count": null,
   "id": "b1670b70",
   "metadata": {},
   "outputs": [],
   "source": [
    "root.geometry(\"400x500\")"
   ]
  },
  {
   "cell_type": "code",
   "execution_count": null,
   "id": "51129e7a",
   "metadata": {},
   "outputs": [],
   "source": [
    "EnterWidget = tk.Entry(root)"
   ]
  },
  {
   "cell_type": "code",
   "execution_count": null,
   "id": "b5fa36e5",
   "metadata": {},
   "outputs": [],
   "source": [
    "EnterWidget.insert(12,\"What is your name\")"
   ]
  },
  {
   "cell_type": "code",
   "execution_count": null,
   "id": "65b4d503",
   "metadata": {},
   "outputs": [],
   "source": [
    "EnterWidget.pack()"
   ]
  },
  {
   "cell_type": "code",
   "execution_count": null,
   "id": "2dd262a1",
   "metadata": {},
   "outputs": [],
   "source": [
    "root.mainloop()"
   ]
  },
  {
   "cell_type": "markdown",
   "id": "d6d19c0e",
   "metadata": {},
   "source": [
    "# REDIO BUTTON"
   ]
  },
  {
   "cell_type": "code",
   "execution_count": null,
   "id": "6c9ba5a9",
   "metadata": {},
   "outputs": [],
   "source": [
    "root=tk.Tk()"
   ]
  },
  {
   "cell_type": "code",
   "execution_count": null,
   "id": "882638d8",
   "metadata": {},
   "outputs": [],
   "source": [
    "v = tk.IntVar()\n",
    "v.set(1)"
   ]
  },
  {
   "cell_type": "code",
   "execution_count": null,
   "id": "fb2c7dc4",
   "metadata": {},
   "outputs": [],
   "source": [
    "radiobutton_widget1 = tk.Radiobutton(root,\n",
    "                                     text=\"Radiobutton\",\n",
    "                                     variable=v, value=1)\n",
    "radiobutton_widget2 = tk.Radiobutton(root,\n",
    "                                     text=\"Radiobutton2\",\n",
    "                                     variable=v,value=2)\n"
   ]
  },
  {
   "cell_type": "code",
   "execution_count": null,
   "id": "6062baa3",
   "metadata": {},
   "outputs": [],
   "source": [
    "radiobutton_widget1.pack()\n",
    "radiobutton_widget2.pack()"
   ]
  },
  {
   "cell_type": "code",
   "execution_count": null,
   "id": "31e8e798",
   "metadata": {},
   "outputs": [],
   "source": [
    "root.mainloop()"
   ]
  },
  {
   "cell_type": "markdown",
   "id": "9c982866",
   "metadata": {},
   "source": [
    "# List box"
   ]
  },
  {
   "cell_type": "code",
   "execution_count": null,
   "id": "a2aaef6a",
   "metadata": {},
   "outputs": [],
   "source": [
    "root=tk.Tk()"
   ]
  },
  {
   "cell_type": "code",
   "execution_count": null,
   "id": "023ee99f",
   "metadata": {},
   "outputs": [],
   "source": [
    "listbox_widgets= tk.Listbox(root)"
   ]
  },
  {
   "cell_type": "code",
   "execution_count": null,
   "id": "e9913d08",
   "metadata": {},
   "outputs": [],
   "source": [
    "list_entries=[\"Enter 1\", \"Enter 2\",\n",
    "              \"Enter3\",  \"Enter 4\"]\n"
   ]
  },
  {
   "cell_type": "code",
   "execution_count": null,
   "id": "3e78d46e",
   "metadata": {},
   "outputs": [],
   "source": [
    "for entry in list_entries:\n",
    "    listbox_widgets.insert(tk.END, entry)"
   ]
  },
  {
   "cell_type": "code",
   "execution_count": null,
   "id": "8b539e03",
   "metadata": {},
   "outputs": [],
   "source": [
    "listbox_widgets.pack()"
   ]
  },
  {
   "cell_type": "code",
   "execution_count": null,
   "id": "4b223da2",
   "metadata": {},
   "outputs": [],
   "source": [
    "root.mainloop()"
   ]
  },
  {
   "cell_type": "code",
   "execution_count": null,
   "id": "65450c25",
   "metadata": {},
   "outputs": [],
   "source": []
  },
  {
   "cell_type": "code",
   "execution_count": null,
   "id": "4cc9d373",
   "metadata": {},
   "outputs": [],
   "source": []
  },
  {
   "cell_type": "code",
   "execution_count": null,
   "id": "e93a415e",
   "metadata": {},
   "outputs": [],
   "source": []
  },
  {
   "cell_type": "code",
   "execution_count": null,
   "id": "64f4e1f8",
   "metadata": {},
   "outputs": [],
   "source": []
  }
 ],
 "metadata": {
  "kernelspec": {
   "display_name": "Python 3 (ipykernel)",
   "language": "python",
   "name": "python3"
  },
  "language_info": {
   "codemirror_mode": {
    "name": "ipython",
    "version": 3
   },
   "file_extension": ".py",
   "mimetype": "text/x-python",
   "name": "python",
   "nbconvert_exporter": "python",
   "pygments_lexer": "ipython3",
   "version": "3.11.4"
  }
 },
 "nbformat": 4,
 "nbformat_minor": 5
}
