{
 "cells": [
  {
   "cell_type": "markdown",
   "id": "d181bf38",
   "metadata": {},
   "source": [
    "# Understand class synatex"
   ]
  },
  {
   "cell_type": "code",
   "execution_count": null,
   "id": "7e048b17",
   "metadata": {},
   "outputs": [],
   "source": [
    "class <class_name>:\n",
    "    #Docstring\n",
    "    \n",
    "    def _init_(self,<parametar>):"
   ]
  },
  {
   "cell_type": "markdown",
   "id": "146d6549",
   "metadata": {},
   "source": [
    "# crate class"
   ]
  },
  {
   "cell_type": "code",
   "execution_count": 1,
   "id": "908815d7",
   "metadata": {},
   "outputs": [],
   "source": [
    "class Stud:\n",
    "    # contains the details of student\n",
    "    \n",
    "    def __init__(self, name, age, employed, college):\n",
    "        # initialize object variables\n",
    "        self.name = name\n",
    "        self.age = age\n",
    "        self.employed = employed\n",
    "        self.education = college\n",
    "        \n",
    "    def descp(self):\n",
    "        print(f\"The name of the student is: {self.name}\")\n",
    "        print(f\"{self.name} is {self.age} years old.\")\n",
    "        print(f\"{self.name} is currently employed {self.employed}.\")\n",
    "        print(f\"{self.name} is an alma mater of {self.education}.\")\n",
    "        \n",
    "    def emp_status(self):\n",
    "        status_check = input(\"Are you currently employed? \")\n",
    "        if status_check == 'y':\n",
    "            self.employed = \"yes\"\n",
    "            self.employee = input(\"Where are you employed? \")\n",
    "            self.salary = input(\"Please enter your salary: \")\n",
    "        else:\n",
    "            self.employed = 'no'\n",
    "                \n",
    "    def emp_disp(self):\n",
    "        print(f\"{self.name} is employed by: {self.employee}.\")\n",
    "        print(f\"{self.name} draws {self.salary} per annum.\")"
   ]
  },
  {
   "cell_type": "code",
   "execution_count": 2,
   "id": "7c918ae5",
   "metadata": {},
   "outputs": [],
   "source": [
    "coll = Stud(\"guru\", 20, \"yes\", \"PMIST\")"
   ]
  },
  {
   "cell_type": "code",
   "execution_count": 3,
   "id": "86e95173",
   "metadata": {},
   "outputs": [],
   "source": [
    "coll01 = Stud(\"nivash\", 21, \"no\", \"PRIST\")"
   ]
  },
  {
   "cell_type": "code",
   "execution_count": 4,
   "id": "8eddc541",
   "metadata": {},
   "outputs": [
    {
     "name": "stdout",
     "output_type": "stream",
     "text": [
      "The name of the student is: guru\n",
      "guru is 20 years old.\n",
      "guru is currently employed yes.\n",
      "guru is an alma mater of PMIST.\n"
     ]
    }
   ],
   "source": [
    "coll.descp()"
   ]
  },
  {
   "cell_type": "code",
   "execution_count": 5,
   "id": "43b71011",
   "metadata": {},
   "outputs": [
    {
     "name": "stdout",
     "output_type": "stream",
     "text": [
      "Are you currently employed? y\n",
      "Where are you employed? google\n",
      "Please enter your salary: 3000000\n"
     ]
    }
   ],
   "source": [
    "coll.emp_status()"
   ]
  },
  {
   "cell_type": "code",
   "execution_count": 6,
   "id": "94146871",
   "metadata": {},
   "outputs": [
    {
     "name": "stdout",
     "output_type": "stream",
     "text": [
      "guru is employed by: google.\n",
      "guru draws 3000000 per annum.\n"
     ]
    }
   ],
   "source": [
    "coll.emp_disp()"
   ]
  },
  {
   "cell_type": "code",
   "execution_count": 7,
   "id": "a1593ffd",
   "metadata": {},
   "outputs": [
    {
     "name": "stdout",
     "output_type": "stream",
     "text": [
      "The name of the student is: nivash\n",
      "nivash is 21 years old.\n",
      "nivash is currently employed no.\n",
      "nivash is an alma mater of PRIST.\n"
     ]
    }
   ],
   "source": [
    "coll01.descp()"
   ]
  },
  {
   "cell_type": "code",
   "execution_count": 11,
   "id": "09ea78b5",
   "metadata": {},
   "outputs": [
    {
     "name": "stdout",
     "output_type": "stream",
     "text": [
      "Are you currently employed? y\n",
      "Where are you employed? PMIST E gev\n",
      "Please enter your salary: 34540\n"
     ]
    }
   ],
   "source": [
    "coll01.emp_status()"
   ]
  },
  {
   "cell_type": "code",
   "execution_count": 12,
   "id": "8678c0a8",
   "metadata": {},
   "outputs": [
    {
     "name": "stdout",
     "output_type": "stream",
     "text": [
      "nivash is employed by: PMIST E gev.\n",
      "nivash draws 34540 per annum.\n"
     ]
    }
   ],
   "source": [
    "coll01.emp_disp()"
   ]
  },
  {
   "cell_type": "code",
   "execution_count": null,
   "id": "3f89fa40",
   "metadata": {},
   "outputs": [],
   "source": []
  }
 ],
 "metadata": {
  "kernelspec": {
   "display_name": "Python 3 (ipykernel)",
   "language": "python",
   "name": "python3"
  },
  "language_info": {
   "codemirror_mode": {
    "name": "ipython",
    "version": 3
   },
   "file_extension": ".py",
   "mimetype": "text/x-python",
   "name": "python",
   "nbconvert_exporter": "python",
   "pygments_lexer": "ipython3",
   "version": "3.11.4"
  }
 },
 "nbformat": 4,
 "nbformat_minor": 5
}
