{
 "cells": [
  {
   "cell_type": "markdown",
   "id": "9fcccfcf",
   "metadata": {},
   "source": [
    "# datatypes IN PYTHON"
   ]
  },
  {
   "cell_type": "markdown",
   "id": "0528abdc",
   "metadata": {},
   "source": [
    "# int NUMERIC"
   ]
  },
  {
   "cell_type": "code",
   "execution_count": 3,
   "id": "725d60ec",
   "metadata": {},
   "outputs": [
    {
     "data": {
      "text/plain": [
       "int"
      ]
     },
     "execution_count": 3,
     "metadata": {},
     "output_type": "execute_result"
    }
   ],
   "source": [
    "val = int(10)\n",
    "type(val)"
   ]
  },
  {
   "cell_type": "markdown",
   "id": "d37959d3",
   "metadata": {},
   "source": [
    "# FLOAT(NUMERIC)"
   ]
  },
  {
   "cell_type": "code",
   "execution_count": 4,
   "id": "c34a5d18",
   "metadata": {},
   "outputs": [
    {
     "data": {
      "text/plain": [
       "float"
      ]
     },
     "execution_count": 4,
     "metadata": {},
     "output_type": "execute_result"
    }
   ],
   "source": [
    "val =(1.0)\n",
    "type(val)"
   ]
  },
  {
   "cell_type": "markdown",
   "id": "ac1ea43b",
   "metadata": {},
   "source": [
    "# COMPLEX(NUMERIC)"
   ]
  },
  {
   "cell_type": "code",
   "execution_count": 6,
   "id": "84d784fd",
   "metadata": {},
   "outputs": [
    {
     "data": {
      "text/plain": [
       "complex"
      ]
     },
     "execution_count": 6,
     "metadata": {},
     "output_type": "execute_result"
    }
   ],
   "source": [
    "val =(2+3j)\n",
    "type(val)"
   ]
  },
  {
   "cell_type": "markdown",
   "id": "f96de710",
   "metadata": {},
   "source": [
    "# list type"
   ]
  },
  {
   "cell_type": "code",
   "execution_count": 9,
   "id": "9de7f517",
   "metadata": {},
   "outputs": [
    {
     "data": {
      "text/plain": [
       "list"
      ]
     },
     "execution_count": 9,
     "metadata": {},
     "output_type": "execute_result"
    }
   ],
   "source": [
    "num=[\"abi\",33]\n",
    "type(num)\n"
   ]
  },
  {
   "cell_type": "markdown",
   "id": "0e466e47",
   "metadata": {},
   "source": [
    "# tuple type"
   ]
  },
  {
   "cell_type": "code",
   "execution_count": 10,
   "id": "fc937b2d",
   "metadata": {},
   "outputs": [
    {
     "data": {
      "text/plain": [
       "tuple"
      ]
     },
     "execution_count": 10,
     "metadata": {},
     "output_type": "execute_result"
    }
   ],
   "source": [
    "num=(\"abi\",33)\n",
    "type(num)\n"
   ]
  },
  {
   "cell_type": "markdown",
   "id": "50c16c6b",
   "metadata": {},
   "source": [
    "# set type"
   ]
  },
  {
   "cell_type": "code",
   "execution_count": 11,
   "id": "f15cff15",
   "metadata": {},
   "outputs": [
    {
     "data": {
      "text/plain": [
       "set"
      ]
     },
     "execution_count": 11,
     "metadata": {},
     "output_type": "execute_result"
    }
   ],
   "source": [
    "num={\"abi\",33}\n",
    "type(num)\n"
   ]
  },
  {
   "cell_type": "markdown",
   "id": "61142e36",
   "metadata": {},
   "source": [
    "# dict type"
   ]
  },
  {
   "cell_type": "code",
   "execution_count": 13,
   "id": "5d98c26a",
   "metadata": {},
   "outputs": [
    {
     "data": {
      "text/plain": [
       "dict"
      ]
     },
     "execution_count": 13,
     "metadata": {},
     "output_type": "execute_result"
    }
   ],
   "source": [
    "num={\"abi\":1,\"nandhu\":2}\n",
    "type(num)\n"
   ]
  },
  {
   "cell_type": "markdown",
   "id": "7b32f32d",
   "metadata": {},
   "source": [
    "# list operation(APPEND)"
   ]
  },
  {
   "cell_type": "code",
   "execution_count": 15,
   "id": "cd8fe003",
   "metadata": {},
   "outputs": [
    {
     "data": {
      "text/plain": [
       "['abi', 33, 44]"
      ]
     },
     "execution_count": 15,
     "metadata": {},
     "output_type": "execute_result"
    }
   ],
   "source": [
    "num=[\"abi\",33]\n",
    "num.append(44)\n",
    "num\n"
   ]
  },
  {
   "cell_type": "markdown",
   "id": "6db53abb",
   "metadata": {},
   "source": [
    "# INSERT(LIST)"
   ]
  },
  {
   "cell_type": "code",
   "execution_count": 16,
   "id": "6986f30f",
   "metadata": {},
   "outputs": [
    {
     "data": {
      "text/plain": [
       "['nandhu', 'abi', 33]"
      ]
     },
     "execution_count": 16,
     "metadata": {},
     "output_type": "execute_result"
    }
   ],
   "source": [
    "num=[\"abi\",33]\n",
    "num.insert(0,\"nandhu\")\n",
    "num\n"
   ]
  },
  {
   "cell_type": "markdown",
   "id": "d15285e1",
   "metadata": {},
   "source": [
    "# EXTEND(LIST)"
   ]
  },
  {
   "cell_type": "code",
   "execution_count": 18,
   "id": "6d0f8e6a",
   "metadata": {},
   "outputs": [
    {
     "data": {
      "text/plain": [
       "['abi', 33, 'k', 'a', 'v', 'i', 't', 'h', 'a']"
      ]
     },
     "execution_count": 18,
     "metadata": {},
     "output_type": "execute_result"
    }
   ],
   "source": [
    "num=[\"abi\",33]\n",
    "num.extend(\"kavitha\")\n",
    "num\n",
    "\n",
    "\n",
    "\n"
   ]
  },
  {
   "cell_type": "markdown",
   "id": "05429f64",
   "metadata": {},
   "source": [
    "# tuple opertion"
   ]
  },
  {
   "cell_type": "code",
   "execution_count": null,
   "id": "12ab73c4",
   "metadata": {},
   "outputs": [],
   "source": [
    "\n",
    "num=(\"abi\",33)\n",
    "type(num)\n"
   ]
  },
  {
   "cell_type": "markdown",
   "id": "cd684bb1",
   "metadata": {},
   "source": [
    "# TUPLE IS IMMUTABLE NO CHANGES"
   ]
  },
  {
   "cell_type": "code",
   "execution_count": null,
   "id": "ec252f3a",
   "metadata": {},
   "outputs": [],
   "source": []
  },
  {
   "cell_type": "markdown",
   "id": "8991a59d",
   "metadata": {},
   "source": [
    "# set operation"
   ]
  },
  {
   "cell_type": "code",
   "execution_count": 28,
   "id": "8d38ff6c",
   "metadata": {},
   "outputs": [
    {
     "data": {
      "text/plain": [
       "{11, 12, 13, 14}"
      ]
     },
     "execution_count": 28,
     "metadata": {},
     "output_type": "execute_result"
    }
   ],
   "source": [
    "reg_no1={11,12,13,14}\n",
    "reg_no1"
   ]
  },
  {
   "cell_type": "code",
   "execution_count": 19,
   "id": "5ef8abf6",
   "metadata": {
    "scrolled": true
   },
   "outputs": [
    {
     "data": {
      "text/plain": [
       "{1, 2, 3, 4, 5, 6, 7}"
      ]
     },
     "execution_count": 19,
     "metadata": {},
     "output_type": "execute_result"
    }
   ],
   "source": [
    "reg_no={1,2,3,4,5,6,7,1,2}\n",
    "reg_no\n"
   ]
  },
  {
   "cell_type": "markdown",
   "id": "f68c09c8",
   "metadata": {},
   "source": [
    "# ADD(SET)"
   ]
  },
  {
   "cell_type": "code",
   "execution_count": 21,
   "id": "98fddfaa",
   "metadata": {},
   "outputs": [
    {
     "data": {
      "text/plain": [
       "{1, 2, 3, 4, 5, 6, 7}"
      ]
     },
     "execution_count": 21,
     "metadata": {},
     "output_type": "execute_result"
    }
   ],
   "source": [
    "reg_no.add(1)\n",
    "reg_no\n"
   ]
  },
  {
   "cell_type": "markdown",
   "id": "1432877e",
   "metadata": {},
   "source": [
    "# UPDATE(SET)"
   ]
  },
  {
   "cell_type": "code",
   "execution_count": 25,
   "id": "4708b06a",
   "metadata": {},
   "outputs": [
    {
     "data": {
      "text/plain": [
       "{1, 10, 2, 3, 4, 5, 6, 7, 8, 9, 'abi'}"
      ]
     },
     "execution_count": 25,
     "metadata": {},
     "output_type": "execute_result"
    }
   ],
   "source": [
    "reg_no.update({8,9,10,\"abi\"})\n",
    "reg_no"
   ]
  },
  {
   "cell_type": "code",
   "execution_count": 24,
   "id": "7ba56917",
   "metadata": {
    "scrolled": true
   },
   "outputs": [
    {
     "ename": "SyntaxError",
     "evalue": "invalid syntax (4047978779.py, line 2)",
     "output_type": "error",
     "traceback": [
      "\u001b[1;36m  Cell \u001b[1;32mIn[24], line 2\u001b[1;36m\u001b[0m\n\u001b[1;33m    reg_no.[:1]\u001b[0m\n\u001b[1;37m           ^\u001b[0m\n\u001b[1;31mSyntaxError\u001b[0m\u001b[1;31m:\u001b[0m invalid syntax\n"
     ]
    }
   ],
   "source": [
    "reg_no={1,2,3,4,5,6,7,1,2}\n",
    "reg_no[:1]\n"
   ]
  },
  {
   "cell_type": "markdown",
   "id": "6f024526",
   "metadata": {},
   "source": [
    "# union operation"
   ]
  },
  {
   "cell_type": "code",
   "execution_count": 30,
   "id": "15c4b117",
   "metadata": {
    "scrolled": true
   },
   "outputs": [
    {
     "data": {
      "text/plain": [
       "{1, 2, 3, 4, 5, 6, 7, 11, 12, 13, 14}"
      ]
     },
     "execution_count": 30,
     "metadata": {},
     "output_type": "execute_result"
    }
   ],
   "source": [
    "reg_no1=({11,12,13,14})\n",
    "reg_no=({1,2,3,4,5,6,7,1,2})\n",
    "reg_no|reg_no1"
   ]
  },
  {
   "cell_type": "markdown",
   "id": "5f77ddc3",
   "metadata": {},
   "source": [
    "# difference"
   ]
  },
  {
   "cell_type": "code",
   "execution_count": 31,
   "id": "b1321051",
   "metadata": {},
   "outputs": [
    {
     "data": {
      "text/plain": [
       "{1, 2, 3, 4, 5, 6, 7}"
      ]
     },
     "execution_count": 31,
     "metadata": {},
     "output_type": "execute_result"
    }
   ],
   "source": [
    "reg_no1=({11,12,13,14})\n",
    "reg_no=({1,2,3,4,5,6,7,1,2})\n",
    "reg_no-reg_no1\n"
   ]
  },
  {
   "cell_type": "markdown",
   "id": "8b1e7064",
   "metadata": {},
   "source": [
    "# intersection"
   ]
  },
  {
   "cell_type": "code",
   "execution_count": 33,
   "id": "428fa026",
   "metadata": {},
   "outputs": [
    {
     "data": {
      "text/plain": [
       "{11, 12}"
      ]
     },
     "execution_count": 33,
     "metadata": {},
     "output_type": "execute_result"
    }
   ],
   "source": [
    "reg_no1=({11,12,13,14})\n",
    "reg_no=({1,2,3,4,5,6,7,1,2,11,12})\n",
    "reg_no&reg_no1\n"
   ]
  },
  {
   "cell_type": "markdown",
   "id": "32be47eb",
   "metadata": {},
   "source": [
    "# dictionary"
   ]
  },
  {
   "cell_type": "code",
   "execution_count": 1,
   "id": "87249a8a",
   "metadata": {},
   "outputs": [
    {
     "data": {
      "text/plain": [
       "{'name': 'abi', 'no': 1, 'course': 'bscai'}"
      ]
     },
     "execution_count": 1,
     "metadata": {},
     "output_type": "execute_result"
    }
   ],
   "source": [
    "student_information ={\"name\":\"abi\",\"no\":1,\"course\":\"bscai\"}\n",
    "student_information"
   ]
  },
  {
   "cell_type": "markdown",
   "id": "19b12d00",
   "metadata": {},
   "source": [
    "# KEYS(DICT)"
   ]
  },
  {
   "cell_type": "code",
   "execution_count": 35,
   "id": "75c70c1d",
   "metadata": {},
   "outputs": [
    {
     "data": {
      "text/plain": [
       "dict_keys(['name', 'no', 'course'])"
      ]
     },
     "execution_count": 35,
     "metadata": {},
     "output_type": "execute_result"
    }
   ],
   "source": [
    "student_information.keys()\n"
   ]
  },
  {
   "cell_type": "markdown",
   "id": "a3579a76",
   "metadata": {},
   "source": [
    "# VALUE(DICT)"
   ]
  },
  {
   "cell_type": "code",
   "execution_count": 36,
   "id": "6050b26f",
   "metadata": {},
   "outputs": [
    {
     "data": {
      "text/plain": [
       "dict_values(['abi', 1, 'bscai'])"
      ]
     },
     "execution_count": 36,
     "metadata": {},
     "output_type": "execute_result"
    }
   ],
   "source": [
    "student_information.values()\n"
   ]
  },
  {
   "cell_type": "markdown",
   "id": "f6c9f6b2",
   "metadata": {},
   "source": [
    "# ITEMS(DICT)"
   ]
  },
  {
   "cell_type": "code",
   "execution_count": 37,
   "id": "c366e8f8",
   "metadata": {},
   "outputs": [
    {
     "data": {
      "text/plain": [
       "dict_items([('name', 'abi'), ('no', 1), ('course', 'bscai')])"
      ]
     },
     "execution_count": 37,
     "metadata": {},
     "output_type": "execute_result"
    }
   ],
   "source": [
    "student_information.items()\n"
   ]
  },
  {
   "cell_type": "markdown",
   "id": "eaf5616c",
   "metadata": {},
   "source": [
    "# ADD(DICT)"
   ]
  },
  {
   "cell_type": "code",
   "execution_count": 41,
   "id": "cc7bbccd",
   "metadata": {},
   "outputs": [
    {
     "data": {
      "text/plain": [
       "{'name': 'abi', 'no': 1, 'course': 'bscai', 3: 'ai'}"
      ]
     },
     "execution_count": 41,
     "metadata": {},
     "output_type": "execute_result"
    }
   ],
   "source": [
    "student_information[3]=\"ai\"\n",
    "student_information\n"
   ]
  },
  {
   "cell_type": "markdown",
   "id": "247eeaca",
   "metadata": {},
   "source": [
    "# pop (dict)"
   ]
  },
  {
   "cell_type": "code",
   "execution_count": 50,
   "id": "65fb4666",
   "metadata": {},
   "outputs": [
    {
     "data": {
      "text/plain": [
       "{'name': 'abi', 'no': 1, 'course': 'bscai'}"
      ]
     },
     "execution_count": 50,
     "metadata": {},
     "output_type": "execute_result"
    }
   ],
   "source": [
    "student_information.pop(3)\n",
    "student_information\n",
    "    "
   ]
  },
  {
   "cell_type": "markdown",
   "id": "58f5eb7c",
   "metadata": {},
   "source": [
    "# clear operation(dict)"
   ]
  },
  {
   "cell_type": "code",
   "execution_count": 52,
   "id": "92689512",
   "metadata": {
    "scrolled": true
   },
   "outputs": [
    {
     "data": {
      "text/plain": [
       "{}"
      ]
     },
     "execution_count": 52,
     "metadata": {},
     "output_type": "execute_result"
    }
   ],
   "source": [
    "student_information.clear()\n",
    "student_information\n"
   ]
  },
  {
   "cell_type": "code",
   "execution_count": null,
   "id": "9e35807c",
   "metadata": {},
   "outputs": [],
   "source": []
  }
 ],
 "metadata": {
  "kernelspec": {
   "display_name": "Python 3 (ipykernel)",
   "language": "python",
   "name": "python3"
  },
  "language_info": {
   "codemirror_mode": {
    "name": "ipython",
    "version": 3
   },
   "file_extension": ".py",
   "mimetype": "text/x-python",
   "name": "python",
   "nbconvert_exporter": "python",
   "pygments_lexer": "ipython3",
   "version": "3.9.17"
  }
 },
 "nbformat": 4,
 "nbformat_minor": 5
}
